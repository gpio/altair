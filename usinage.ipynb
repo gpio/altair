{
 "cells": [
  {
   "cell_type": "code",
   "execution_count": 178,
   "metadata": {},
   "outputs": [],
   "source": [
    "import altair as alt\n",
    "import pandas as pd"
   ]
  },
  {
   "cell_type": "raw",
   "metadata": {},
   "source": [
    "1, 0 02,93\n",
    "2, 0 02,53\n",
    "3, 0 02,57\n",
    "4, 0 02,85\n",
    "5, 0 03,93\n",
    "6, 0 02,81\n",
    "7, 0 02,54\n",
    "8, 0 02,38\n",
    "9, 0 02,99\n",
    "10, 0 02,14\n",
    "11, 0 03,15\n",
    "12, 0 01,34"
   ]
  },
  {
   "cell_type": "code",
   "execution_count": 207,
   "metadata": {},
   "outputs": [],
   "source": [
    "chrono = [# intervals du chrono\n",
    "    12.93,\n",
    "    12.53,\n",
    "    15.57,\n",
    "    12.85,\n",
    "    23.93,\n",
    "    12.81,\n",
    "    12.54,\n",
    "    15.38,\n",
    "    12.99,\n",
    "    12.14,\n",
    "    23.15,\n",
    "    18.34   # fin d'un cycle de chargement du CU (2 pieces)\n",
    "]\n",
    "ordre = [2, 1, 4, 3, 2, 5, 1, 5, 3, 6, 4, 6] #ordre"
   ]
  },
  {
   "cell_type": "code",
   "execution_count": 209,
   "metadata": {},
   "outputs": [
    {
     "data": {
      "text/html": [
       "\n",
       "<div id=\"altair-viz-80acaf99055b4c7197559c7276ec17b2\"></div>\n",
       "<script type=\"text/javascript\">\n",
       "  (function(spec, embedOpt){\n",
       "    let outputDiv = document.currentScript.previousElementSibling;\n",
       "    if (outputDiv.id !== \"altair-viz-80acaf99055b4c7197559c7276ec17b2\") {\n",
       "      outputDiv = document.getElementById(\"altair-viz-80acaf99055b4c7197559c7276ec17b2\");\n",
       "    }\n",
       "    const paths = {\n",
       "      \"vega\": \"https://cdn.jsdelivr.net/npm//vega@5?noext\",\n",
       "      \"vega-lib\": \"https://cdn.jsdelivr.net/npm//vega-lib?noext\",\n",
       "      \"vega-lite\": \"https://cdn.jsdelivr.net/npm//vega-lite@4.8.1?noext\",\n",
       "      \"vega-embed\": \"https://cdn.jsdelivr.net/npm//vega-embed@6?noext\",\n",
       "    };\n",
       "\n",
       "    function loadScript(lib) {\n",
       "      return new Promise(function(resolve, reject) {\n",
       "        var s = document.createElement('script');\n",
       "        s.src = paths[lib];\n",
       "        s.async = true;\n",
       "        s.onload = () => resolve(paths[lib]);\n",
       "        s.onerror = () => reject(`Error loading script: ${paths[lib]}`);\n",
       "        document.getElementsByTagName(\"head\")[0].appendChild(s);\n",
       "      });\n",
       "    }\n",
       "\n",
       "    function showError(err) {\n",
       "      outputDiv.innerHTML = `<div class=\"error\" style=\"color:red;\">${err}</div>`;\n",
       "      throw err;\n",
       "    }\n",
       "\n",
       "    function displayChart(vegaEmbed) {\n",
       "      vegaEmbed(outputDiv, spec, embedOpt)\n",
       "        .catch(err => showError(`Javascript Error: ${err.message}<br>This usually means there's a typo in your chart specification. See the javascript console for the full traceback.`));\n",
       "    }\n",
       "\n",
       "    if(typeof define === \"function\" && define.amd) {\n",
       "      requirejs.config({paths});\n",
       "      require([\"vega-embed\"], displayChart, err => showError(`Error loading script: ${err.message}`));\n",
       "    } else if (typeof vegaEmbed === \"function\") {\n",
       "      displayChart(vegaEmbed);\n",
       "    } else {\n",
       "      loadScript(\"vega\")\n",
       "        .then(() => loadScript(\"vega-lite\"))\n",
       "        .then(() => loadScript(\"vega-embed\"))\n",
       "        .catch(showError)\n",
       "        .then(() => displayChart(vegaEmbed));\n",
       "    }\n",
       "  })({\"config\": {\"view\": {\"continuousWidth\": 400, \"continuousHeight\": 300}}, \"layer\": [{\"mark\": \"bar\", \"encoding\": {\"color\": {\"type\": \"nominal\", \"field\": \"leg\"}, \"x\": {\"type\": \"quantitative\", \"field\": \"deb\"}, \"x2\": {\"field\": \"fin\"}, \"y\": {\"type\": \"nominal\", \"field\": \"mission\"}}, \"height\": 150, \"title\": \"cycle de chargement 2 pi\\u00e8ces\", \"width\": 1200}, {\"mark\": {\"type\": \"text\", \"color\": \"white\", \"dx\": -15, \"dy\": 3}, \"encoding\": {\"text\": {\"type\": \"quantitative\", \"field\": \"t\", \"format\": \".2f\"}, \"x\": {\"type\": \"quantitative\", \"field\": \"fin\"}, \"y\": {\"type\": \"nominal\", \"field\": \"mission\"}}}, {\"mark\": \"rule\", \"encoding\": {\"color\": {\"value\": \"red\"}, \"x\": {\"type\": \"quantitative\", \"field\": \"a\"}}}], \"data\": {\"name\": \"data-b806d7868be405585bb55c7e499c8c68\"}, \"$schema\": \"https://vega.github.io/schema/vega-lite/v4.8.1.json\", \"datasets\": {\"data-b806d7868be405585bb55c7e499c8c68\": [{\"mission\": \"2. OP10 -> RETN\", \"t\": 12.93, \"deb\": 0.0, \"fin\": 12.93, \"leg\": \"2. OP10 -> RETN\", \"a\": 180}, {\"mission\": \"1. BRUT -> OP10\", \"t\": 12.53, \"deb\": 12.93, \"fin\": 25.46, \"leg\": \"1. BRUT -> OP10\", \"a\": 180}, {\"mission\": \"4. OP20 -> BROT\", \"t\": 15.57, \"deb\": 25.46, \"fin\": 41.03, \"leg\": \"4. OP20 -> BROT\", \"a\": 180}, {\"mission\": \"3. RETN -> OP20\", \"t\": 12.85, \"deb\": 41.03, \"fin\": 53.88, \"leg\": \"3. RETN -> OP20\", \"a\": 180}, {\"mission\": \"2. OP10 -> RETN\", \"t\": 23.93, \"deb\": 53.88, \"fin\": 77.81, \"leg\": \"2. OP10 -> RETN\", \"a\": 180}, {\"mission\": \"5. BROT -> MALV\", \"t\": 12.81, \"deb\": 77.81, \"fin\": 90.62, \"leg\": \"5. BROT -> MALV\", \"a\": 180}, {\"mission\": \"1. BRUT -> OP10\", \"t\": 12.54, \"deb\": 90.62, \"fin\": 103.16, \"leg\": \"1. BRUT -> OP10\", \"a\": 180}, {\"mission\": \"5. BROT -> MALV\", \"t\": 15.38, \"deb\": 103.16, \"fin\": 118.53999999999999, \"leg\": \"5. BROT -> MALV\", \"a\": 180}, {\"mission\": \"3. RETN -> OP20\", \"t\": 12.99, \"deb\": 118.53999999999999, \"fin\": 131.53, \"leg\": \"3. RETN -> OP20\", \"a\": 180}, {\"mission\": \"6. MALV -> CONV\", \"t\": 12.14, \"deb\": 131.53, \"fin\": 143.67000000000002, \"leg\": \"6. MALV -> CONV\", \"a\": 180}, {\"mission\": \"4. OP20 -> BROT\", \"t\": 23.15, \"deb\": 143.67000000000002, \"fin\": 166.82000000000002, \"leg\": \"4. OP20 -> BROT\", \"a\": 180}, {\"mission\": \"6. MALV -> CONV\", \"t\": 18.34, \"deb\": 166.82000000000002, \"fin\": 185.16000000000003, \"leg\": \"6. MALV -> CONV\", \"a\": 180}]}}, {\"mode\": \"vega-lite\"});\n",
       "</script>"
      ],
      "text/plain": [
       "alt.LayerChart(...)"
      ]
     },
     "execution_count": 209,
     "metadata": {},
     "output_type": "execute_result"
    }
   ],
   "source": [
    "m = ['Attente', '1. BRUT -> OP10', '2. OP10 -> RETN', '3. RETN -> OP20', '4. OP20 -> BROT', '5. BROT -> MALV', '6. MALV -> CONV'] #missions\n",
    "titre = 'cycle de chargement 2 pièces'\n",
    "\n",
    "i = chrono\n",
    "o = ordre\n",
    "\n",
    "source = pd.DataFrame([ \n",
    "    {\"mission\": m[o[0]], \"t\": i[0], \"deb\": 0,             \"fin\":i[0]       ,  \"leg\":m[o[0]]},\n",
    "    {\"mission\": m[o[1]], \"t\": i[1], \"deb\": sum(i[0:1] ),  \"fin\":sum(i[0: 2]), \"leg\":m[o[1]]},\n",
    "    {\"mission\": m[o[2]], \"t\": i[2], \"deb\": sum(i[0:2] ),  \"fin\":sum(i[0: 3]), \"leg\":m[o[2]]},\n",
    "    {\"mission\": m[o[3]], \"t\": i[3], \"deb\": sum(i[0:3] ),  \"fin\":sum(i[0: 4]), \"leg\":m[o[3]]},\n",
    "    {\"mission\": m[o[4]], \"t\": i[4], \"deb\": sum(i[0:4] ),  \"fin\":sum(i[0: 5]), \"leg\":m[o[4]]},\n",
    "    {\"mission\": m[o[5]], \"t\": i[5], \"deb\": sum(i[0:5] ),  \"fin\":sum(i[0: 6]), \"leg\":m[o[5]]},\n",
    "    {\"mission\": m[o[6]], \"t\": i[6], \"deb\": sum(i[0:6] ),  \"fin\":sum(i[0: 7]), \"leg\":m[o[6]]},\n",
    "    {\"mission\": m[o[7]], \"t\": i[7], \"deb\": sum(i[0:7] ),  \"fin\":sum(i[0: 8]), \"leg\":m[o[7]]},\n",
    "    {\"mission\": m[o[8]], \"t\": i[8], \"deb\": sum(i[0:8] ),  \"fin\":sum(i[0: 9]), \"leg\":m[o[8]]},\n",
    "    {\"mission\": m[o[9]], \"t\": i[9], \"deb\": sum(i[0:9] ),  \"fin\":sum(i[0:10]), \"leg\":m[o[9]]},\n",
    "    {\"mission\": m[o[10]],\"t\": i[10],\"deb\": sum(i[0:10]),  \"fin\":sum(i[0:11]), \"leg\":m[o[10]]},\n",
    "    {\"mission\": m[o[11]],\"t\": i[11],\"deb\": sum(i[0:11]),  \"fin\":sum(i[0:12]), \"leg\":m[o[11]]}\n",
    "])\n",
    "source['a'] = 180\n",
    "\n",
    "bars = alt.Chart(source).mark_bar().encode(\n",
    "    x='deb',\n",
    "    x2='fin',\n",
    "    y='mission',\n",
    "    color='leg'\n",
    ").properties(\n",
    "    title=titre,\n",
    "    width=1200,\n",
    "    height=150\n",
    ")\n",
    "\n",
    "text = alt.Chart(source).mark_text(dx=-15, dy=3, color='white').encode(\n",
    "    x='fin',\n",
    "    y='mission',\n",
    "    text=alt.Text('t', format='.2f')\n",
    "\n",
    ")\n",
    "line = alt.Chart().mark_rule().encode(\n",
    "    x='a',\n",
    "    color=alt.ColorValue('red')\n",
    ")\n",
    "\n",
    "bars + text + line\n"
   ]
  },
  {
   "cell_type": "code",
   "execution_count": null,
   "metadata": {},
   "outputs": [],
   "source": []
  },
  {
   "cell_type": "code",
   "execution_count": null,
   "metadata": {},
   "outputs": [],
   "source": []
  }
 ],
 "metadata": {
  "kernelspec": {
   "display_name": "Python 3",
   "language": "python",
   "name": "python3"
  },
  "language_info": {
   "codemirror_mode": {
    "name": "ipython",
    "version": 3
   },
   "file_extension": ".py",
   "mimetype": "text/x-python",
   "name": "python",
   "nbconvert_exporter": "python",
   "pygments_lexer": "ipython3",
   "version": "3.7.7"
  }
 },
 "nbformat": 4,
 "nbformat_minor": 4
}
